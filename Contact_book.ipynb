{
  "nbformat": 4,
  "nbformat_minor": 0,
  "metadata": {
    "colab": {
      "provenance": [],
      "authorship_tag": "ABX9TyPyndks9Zn0Nv59f0trBYM9",
      "include_colab_link": true
    },
    "kernelspec": {
      "name": "python3",
      "display_name": "Python 3"
    },
    "language_info": {
      "name": "python"
    }
  },
  "cells": [
    {
      "cell_type": "markdown",
      "metadata": {
        "id": "view-in-github",
        "colab_type": "text"
      },
      "source": [
        "<a href=\"https://colab.research.google.com/github/vananthi/Mini_projects/blob/main/Contact_book.ipynb\" target=\"_parent\"><img src=\"https://colab.research.google.com/assets/colab-badge.svg\" alt=\"Open In Colab\"/></a>"
      ]
    },
    {
      "cell_type": "code",
      "execution_count": 1,
      "metadata": {
        "colab": {
          "base_uri": "https://localhost:8080/"
        },
        "id": "bAuEPb4Dy6uS",
        "outputId": "0f23e17c-e3b7-42a8-9172-f4ccc4bc5f5d"
      },
      "outputs": [
        {
          "name": "stdout",
          "output_type": "stream",
          "text": [
            "1.Add New Contact \n",
            " 2.Search contact \n",
            " 3.Display contact \n",
            " 4.Edit contact \n",
            " 5.Delete contact \n",
            " 6.Exit \n",
            " Enter your choice1\n",
            "Enter a contact name\t:\tAnanthi\n",
            "Enter a mobile number\t:\t9894599222\n",
            "1.Add New Contact \n",
            " 2.Search contact \n",
            " 3.Display contact \n",
            " 4.Edit contact \n",
            " 5.Delete contact \n",
            " 6.Exit \n",
            " Enter your choice2\n",
            "Enter a contact name\t:\tAnanthi\n",
            "Ananthi 's contact number is 9894599222\n",
            "1.Add New Contact \n",
            " 2.Search contact \n",
            " 3.Display contact \n",
            " 4.Edit contact \n",
            " 5.Delete contact \n",
            " 6.Exit \n",
            " Enter your choice6\n"
          ]
        }
      ],
      "source": [
        "contact={}\n",
        "\n",
        "def display_contact():\n",
        "  for name,phone in contact.items():\n",
        "    print(name,phone)\n",
        "\n",
        "while True:\n",
        "  choice=int(input(\"1.Add New Contact \\n 2.Search contact \\n 3.Display contact \\n 4.Edit contact \\n 5.Delete contact \\n 6.Exit \\n Enter your choice\"))\n",
        "  if choice==1:\n",
        "    name=input(\"Enter a contact name\\t:\\t\")\n",
        "    phone=int(input(\"Enter a mobile number\\t:\\t\"))\n",
        "    contact[name]=phone\n",
        "  elif choice==2:\n",
        "      search_name=input(\"Enter a contact name\\t:\\t\")\n",
        "      if search_name in contact:\n",
        "        print(search_name,\"'s contact number is\",contact[search_name])\n",
        "      else:\n",
        "        print(\"Name is not found in the contact book\\t:\\t\")\n",
        "  elif choice==3:\n",
        "      if not contact:\n",
        "        print(\"contact book is empty\\t:\\t\")\n",
        "      else:\n",
        "        display_contact()\n",
        "  elif choice==4:\n",
        "      edit_name=input(\"Enter the contact to be edited\\t:\\t\")\n",
        "      if edit_name in contact:\n",
        "        new_phone=int(input(\"Enter mobile number\\t:\\t\"))\n",
        "        contact[edit_contact]=new_phone\n",
        "        print(\"Contact updated\")\n",
        "        display_contact()\n",
        "      else:\n",
        "        print(\"Name is not found in the contact book\\t:\\t\")\n",
        "  elif choice==5:\n",
        "      del_contact=input(\"Enter the contact to be deleted\\t:\\t\")\n",
        "      if del_contact in contact:\n",
        "        confirm=input(\"Do you want to delete this contact y/n ?\")\n",
        "        if confirm=='y' or confirm=='Y':\n",
        "          contact.pop(del_contact)\n",
        "        display_contact()\n",
        "      else:\n",
        "        print(\"Name is not found in the contact book\")\n",
        "  else:\n",
        "      break\n"
      ]
    }
  ]
}